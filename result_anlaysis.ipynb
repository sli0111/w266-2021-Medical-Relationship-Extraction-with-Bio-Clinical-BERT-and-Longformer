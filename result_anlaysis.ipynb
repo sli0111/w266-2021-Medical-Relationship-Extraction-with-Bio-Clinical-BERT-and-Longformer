{
  "nbformat": 4,
  "nbformat_minor": 0,
  "metadata": {
    "colab": {
      "name": "Results Analysis.ipynb",
      "provenance": [],
      "collapsed_sections": []
    },
    "kernelspec": {
      "name": "python3",
      "display_name": "Python 3"
    },
    "language_info": {
      "name": "python"
    },
    "widgets": {
      "application/vnd.jupyter.widget-state+json": {
        "b371dcf33a764b5d83fec235d35765dd": {
          "model_module": "@jupyter-widgets/controls",
          "model_name": "HBoxModel",
          "state": {
            "_view_name": "HBoxView",
            "_dom_classes": [],
            "_model_name": "HBoxModel",
            "_view_module": "@jupyter-widgets/controls",
            "_model_module_version": "1.5.0",
            "_view_count": null,
            "_view_module_version": "1.5.0",
            "box_style": "",
            "layout": "IPY_MODEL_0056e91cd2c04328b1144b6838717090",
            "_model_module": "@jupyter-widgets/controls",
            "children": [
              "IPY_MODEL_e194d30bb9ef4f5b80b433927bdd1360",
              "IPY_MODEL_76aa9deebaba4fd6868beab5a510ae8e"
            ]
          }
        },
        "0056e91cd2c04328b1144b6838717090": {
          "model_module": "@jupyter-widgets/base",
          "model_name": "LayoutModel",
          "state": {
            "_view_name": "LayoutView",
            "grid_template_rows": null,
            "right": null,
            "justify_content": null,
            "_view_module": "@jupyter-widgets/base",
            "overflow": null,
            "_model_module_version": "1.2.0",
            "_view_count": null,
            "flex_flow": null,
            "width": null,
            "min_width": null,
            "border": null,
            "align_items": null,
            "bottom": null,
            "_model_module": "@jupyter-widgets/base",
            "top": null,
            "grid_column": null,
            "overflow_y": null,
            "overflow_x": null,
            "grid_auto_flow": null,
            "grid_area": null,
            "grid_template_columns": null,
            "flex": null,
            "_model_name": "LayoutModel",
            "justify_items": null,
            "grid_row": null,
            "max_height": null,
            "align_content": null,
            "visibility": null,
            "align_self": null,
            "height": null,
            "min_height": null,
            "padding": null,
            "grid_auto_rows": null,
            "grid_gap": null,
            "max_width": null,
            "order": null,
            "_view_module_version": "1.2.0",
            "grid_template_areas": null,
            "object_position": null,
            "object_fit": null,
            "grid_auto_columns": null,
            "margin": null,
            "display": null,
            "left": null
          }
        },
        "e194d30bb9ef4f5b80b433927bdd1360": {
          "model_module": "@jupyter-widgets/controls",
          "model_name": "FloatProgressModel",
          "state": {
            "_view_name": "ProgressView",
            "style": "IPY_MODEL_77323179206a43d383b247628461f73c",
            "_dom_classes": [],
            "description": "Downloading: 100%",
            "_model_name": "FloatProgressModel",
            "bar_style": "success",
            "max": 385,
            "_view_module": "@jupyter-widgets/controls",
            "_model_module_version": "1.5.0",
            "value": 385,
            "_view_count": null,
            "_view_module_version": "1.5.0",
            "orientation": "horizontal",
            "min": 0,
            "description_tooltip": null,
            "_model_module": "@jupyter-widgets/controls",
            "layout": "IPY_MODEL_7d29d31fab5745a98bd9de84d6d33178"
          }
        },
        "76aa9deebaba4fd6868beab5a510ae8e": {
          "model_module": "@jupyter-widgets/controls",
          "model_name": "HTMLModel",
          "state": {
            "_view_name": "HTMLView",
            "style": "IPY_MODEL_2f5feea68c47464ba952a795fca6467c",
            "_dom_classes": [],
            "description": "",
            "_model_name": "HTMLModel",
            "placeholder": "​",
            "_view_module": "@jupyter-widgets/controls",
            "_model_module_version": "1.5.0",
            "value": " 385/385 [00:03&lt;00:00, 126B/s]",
            "_view_count": null,
            "_view_module_version": "1.5.0",
            "description_tooltip": null,
            "_model_module": "@jupyter-widgets/controls",
            "layout": "IPY_MODEL_a1cbd36e84e74299af570b23816e779b"
          }
        },
        "77323179206a43d383b247628461f73c": {
          "model_module": "@jupyter-widgets/controls",
          "model_name": "ProgressStyleModel",
          "state": {
            "_view_name": "StyleView",
            "_model_name": "ProgressStyleModel",
            "description_width": "initial",
            "_view_module": "@jupyter-widgets/base",
            "_model_module_version": "1.5.0",
            "_view_count": null,
            "_view_module_version": "1.2.0",
            "bar_color": null,
            "_model_module": "@jupyter-widgets/controls"
          }
        },
        "7d29d31fab5745a98bd9de84d6d33178": {
          "model_module": "@jupyter-widgets/base",
          "model_name": "LayoutModel",
          "state": {
            "_view_name": "LayoutView",
            "grid_template_rows": null,
            "right": null,
            "justify_content": null,
            "_view_module": "@jupyter-widgets/base",
            "overflow": null,
            "_model_module_version": "1.2.0",
            "_view_count": null,
            "flex_flow": null,
            "width": null,
            "min_width": null,
            "border": null,
            "align_items": null,
            "bottom": null,
            "_model_module": "@jupyter-widgets/base",
            "top": null,
            "grid_column": null,
            "overflow_y": null,
            "overflow_x": null,
            "grid_auto_flow": null,
            "grid_area": null,
            "grid_template_columns": null,
            "flex": null,
            "_model_name": "LayoutModel",
            "justify_items": null,
            "grid_row": null,
            "max_height": null,
            "align_content": null,
            "visibility": null,
            "align_self": null,
            "height": null,
            "min_height": null,
            "padding": null,
            "grid_auto_rows": null,
            "grid_gap": null,
            "max_width": null,
            "order": null,
            "_view_module_version": "1.2.0",
            "grid_template_areas": null,
            "object_position": null,
            "object_fit": null,
            "grid_auto_columns": null,
            "margin": null,
            "display": null,
            "left": null
          }
        },
        "2f5feea68c47464ba952a795fca6467c": {
          "model_module": "@jupyter-widgets/controls",
          "model_name": "DescriptionStyleModel",
          "state": {
            "_view_name": "StyleView",
            "_model_name": "DescriptionStyleModel",
            "description_width": "",
            "_view_module": "@jupyter-widgets/base",
            "_model_module_version": "1.5.0",
            "_view_count": null,
            "_view_module_version": "1.2.0",
            "_model_module": "@jupyter-widgets/controls"
          }
        },
        "a1cbd36e84e74299af570b23816e779b": {
          "model_module": "@jupyter-widgets/base",
          "model_name": "LayoutModel",
          "state": {
            "_view_name": "LayoutView",
            "grid_template_rows": null,
            "right": null,
            "justify_content": null,
            "_view_module": "@jupyter-widgets/base",
            "overflow": null,
            "_model_module_version": "1.2.0",
            "_view_count": null,
            "flex_flow": null,
            "width": null,
            "min_width": null,
            "border": null,
            "align_items": null,
            "bottom": null,
            "_model_module": "@jupyter-widgets/base",
            "top": null,
            "grid_column": null,
            "overflow_y": null,
            "overflow_x": null,
            "grid_auto_flow": null,
            "grid_area": null,
            "grid_template_columns": null,
            "flex": null,
            "_model_name": "LayoutModel",
            "justify_items": null,
            "grid_row": null,
            "max_height": null,
            "align_content": null,
            "visibility": null,
            "align_self": null,
            "height": null,
            "min_height": null,
            "padding": null,
            "grid_auto_rows": null,
            "grid_gap": null,
            "max_width": null,
            "order": null,
            "_view_module_version": "1.2.0",
            "grid_template_areas": null,
            "object_position": null,
            "object_fit": null,
            "grid_auto_columns": null,
            "margin": null,
            "display": null,
            "left": null
          }
        },
        "0986d8898adf4da69c19ad7cf746d6cb": {
          "model_module": "@jupyter-widgets/controls",
          "model_name": "HBoxModel",
          "state": {
            "_view_name": "HBoxView",
            "_dom_classes": [],
            "_model_name": "HBoxModel",
            "_view_module": "@jupyter-widgets/controls",
            "_model_module_version": "1.5.0",
            "_view_count": null,
            "_view_module_version": "1.5.0",
            "box_style": "",
            "layout": "IPY_MODEL_95e2956d8eb74f16a1a73244a9e76141",
            "_model_module": "@jupyter-widgets/controls",
            "children": [
              "IPY_MODEL_363b64b24f44414c978df0b7ea12f6ea",
              "IPY_MODEL_3caaa2e718234d45a895386414b08904"
            ]
          }
        },
        "95e2956d8eb74f16a1a73244a9e76141": {
          "model_module": "@jupyter-widgets/base",
          "model_name": "LayoutModel",
          "state": {
            "_view_name": "LayoutView",
            "grid_template_rows": null,
            "right": null,
            "justify_content": null,
            "_view_module": "@jupyter-widgets/base",
            "overflow": null,
            "_model_module_version": "1.2.0",
            "_view_count": null,
            "flex_flow": null,
            "width": null,
            "min_width": null,
            "border": null,
            "align_items": null,
            "bottom": null,
            "_model_module": "@jupyter-widgets/base",
            "top": null,
            "grid_column": null,
            "overflow_y": null,
            "overflow_x": null,
            "grid_auto_flow": null,
            "grid_area": null,
            "grid_template_columns": null,
            "flex": null,
            "_model_name": "LayoutModel",
            "justify_items": null,
            "grid_row": null,
            "max_height": null,
            "align_content": null,
            "visibility": null,
            "align_self": null,
            "height": null,
            "min_height": null,
            "padding": null,
            "grid_auto_rows": null,
            "grid_gap": null,
            "max_width": null,
            "order": null,
            "_view_module_version": "1.2.0",
            "grid_template_areas": null,
            "object_position": null,
            "object_fit": null,
            "grid_auto_columns": null,
            "margin": null,
            "display": null,
            "left": null
          }
        },
        "363b64b24f44414c978df0b7ea12f6ea": {
          "model_module": "@jupyter-widgets/controls",
          "model_name": "FloatProgressModel",
          "state": {
            "_view_name": "ProgressView",
            "style": "IPY_MODEL_178e153738bf42a1810bacf7bc8f3535",
            "_dom_classes": [],
            "description": "Downloading: 100%",
            "_model_name": "FloatProgressModel",
            "bar_style": "success",
            "max": 213450,
            "_view_module": "@jupyter-widgets/controls",
            "_model_module_version": "1.5.0",
            "value": 213450,
            "_view_count": null,
            "_view_module_version": "1.5.0",
            "orientation": "horizontal",
            "min": 0,
            "description_tooltip": null,
            "_model_module": "@jupyter-widgets/controls",
            "layout": "IPY_MODEL_39ba6c36bfa14cffac1fc29e441284cf"
          }
        },
        "3caaa2e718234d45a895386414b08904": {
          "model_module": "@jupyter-widgets/controls",
          "model_name": "HTMLModel",
          "state": {
            "_view_name": "HTMLView",
            "style": "IPY_MODEL_57e093a2fe1046f284d388e6e589217f",
            "_dom_classes": [],
            "description": "",
            "_model_name": "HTMLModel",
            "placeholder": "​",
            "_view_module": "@jupyter-widgets/controls",
            "_model_module_version": "1.5.0",
            "value": " 213k/213k [00:01&lt;00:00, 109kB/s]",
            "_view_count": null,
            "_view_module_version": "1.5.0",
            "description_tooltip": null,
            "_model_module": "@jupyter-widgets/controls",
            "layout": "IPY_MODEL_bd0149a7ea2e4dd5903eaec2aeb2194c"
          }
        },
        "178e153738bf42a1810bacf7bc8f3535": {
          "model_module": "@jupyter-widgets/controls",
          "model_name": "ProgressStyleModel",
          "state": {
            "_view_name": "StyleView",
            "_model_name": "ProgressStyleModel",
            "description_width": "initial",
            "_view_module": "@jupyter-widgets/base",
            "_model_module_version": "1.5.0",
            "_view_count": null,
            "_view_module_version": "1.2.0",
            "bar_color": null,
            "_model_module": "@jupyter-widgets/controls"
          }
        },
        "39ba6c36bfa14cffac1fc29e441284cf": {
          "model_module": "@jupyter-widgets/base",
          "model_name": "LayoutModel",
          "state": {
            "_view_name": "LayoutView",
            "grid_template_rows": null,
            "right": null,
            "justify_content": null,
            "_view_module": "@jupyter-widgets/base",
            "overflow": null,
            "_model_module_version": "1.2.0",
            "_view_count": null,
            "flex_flow": null,
            "width": null,
            "min_width": null,
            "border": null,
            "align_items": null,
            "bottom": null,
            "_model_module": "@jupyter-widgets/base",
            "top": null,
            "grid_column": null,
            "overflow_y": null,
            "overflow_x": null,
            "grid_auto_flow": null,
            "grid_area": null,
            "grid_template_columns": null,
            "flex": null,
            "_model_name": "LayoutModel",
            "justify_items": null,
            "grid_row": null,
            "max_height": null,
            "align_content": null,
            "visibility": null,
            "align_self": null,
            "height": null,
            "min_height": null,
            "padding": null,
            "grid_auto_rows": null,
            "grid_gap": null,
            "max_width": null,
            "order": null,
            "_view_module_version": "1.2.0",
            "grid_template_areas": null,
            "object_position": null,
            "object_fit": null,
            "grid_auto_columns": null,
            "margin": null,
            "display": null,
            "left": null
          }
        },
        "57e093a2fe1046f284d388e6e589217f": {
          "model_module": "@jupyter-widgets/controls",
          "model_name": "DescriptionStyleModel",
          "state": {
            "_view_name": "StyleView",
            "_model_name": "DescriptionStyleModel",
            "description_width": "",
            "_view_module": "@jupyter-widgets/base",
            "_model_module_version": "1.5.0",
            "_view_count": null,
            "_view_module_version": "1.2.0",
            "_model_module": "@jupyter-widgets/controls"
          }
        },
        "bd0149a7ea2e4dd5903eaec2aeb2194c": {
          "model_module": "@jupyter-widgets/base",
          "model_name": "LayoutModel",
          "state": {
            "_view_name": "LayoutView",
            "grid_template_rows": null,
            "right": null,
            "justify_content": null,
            "_view_module": "@jupyter-widgets/base",
            "overflow": null,
            "_model_module_version": "1.2.0",
            "_view_count": null,
            "flex_flow": null,
            "width": null,
            "min_width": null,
            "border": null,
            "align_items": null,
            "bottom": null,
            "_model_module": "@jupyter-widgets/base",
            "top": null,
            "grid_column": null,
            "overflow_y": null,
            "overflow_x": null,
            "grid_auto_flow": null,
            "grid_area": null,
            "grid_template_columns": null,
            "flex": null,
            "_model_name": "LayoutModel",
            "justify_items": null,
            "grid_row": null,
            "max_height": null,
            "align_content": null,
            "visibility": null,
            "align_self": null,
            "height": null,
            "min_height": null,
            "padding": null,
            "grid_auto_rows": null,
            "grid_gap": null,
            "max_width": null,
            "order": null,
            "_view_module_version": "1.2.0",
            "grid_template_areas": null,
            "object_position": null,
            "object_fit": null,
            "grid_auto_columns": null,
            "margin": null,
            "display": null,
            "left": null
          }
        }
      }
    }
  },
  "cells": [
    {
      "cell_type": "markdown",
      "metadata": {
        "id": "-5g8uPym2mpX"
      },
      "source": [
        "# Library"
      ]
    },
    {
      "cell_type": "code",
      "metadata": {
        "id": "VQiYqYhm-bHT"
      },
      "source": [
        "%%capture\n",
        "!pip install transformers\n",
        "!pip install tdqm"
      ],
      "execution_count": null,
      "outputs": []
    },
    {
      "cell_type": "code",
      "metadata": {
        "id": "7Xrd3Kr32HKX"
      },
      "source": [
        "import numpy as np\n",
        "import pandas as pd\n",
        "import matplotlib.pyplot as plt\n",
        "import seaborn as sns"
      ],
      "execution_count": null,
      "outputs": []
    },
    {
      "cell_type": "code",
      "metadata": {
        "colab": {
          "base_uri": "https://localhost:8080/",
          "height": 132,
          "referenced_widgets": [
            "b371dcf33a764b5d83fec235d35765dd",
            "0056e91cd2c04328b1144b6838717090",
            "e194d30bb9ef4f5b80b433927bdd1360",
            "76aa9deebaba4fd6868beab5a510ae8e",
            "77323179206a43d383b247628461f73c",
            "7d29d31fab5745a98bd9de84d6d33178",
            "2f5feea68c47464ba952a795fca6467c",
            "a1cbd36e84e74299af570b23816e779b",
            "0986d8898adf4da69c19ad7cf746d6cb",
            "95e2956d8eb74f16a1a73244a9e76141",
            "363b64b24f44414c978df0b7ea12f6ea",
            "3caaa2e718234d45a895386414b08904",
            "178e153738bf42a1810bacf7bc8f3535",
            "39ba6c36bfa14cffac1fc29e441284cf",
            "57e093a2fe1046f284d388e6e589217f",
            "bd0149a7ea2e4dd5903eaec2aeb2194c"
          ]
        },
        "id": "4ZhgWinn-Z63",
        "outputId": "dce419c3-c8bd-4a8e-f7ab-247fdafa834d"
      },
      "source": [
        "from transformers import AutoTokenizer\n",
        "\n",
        "tokenizer = AutoTokenizer.from_pretrained(\"emilyalsentzer/Bio_ClinicalBERT\")\n",
        "\n",
        "# Add special tokens\n",
        "extra_tokens = ['[L]', '[R]']\n",
        "tokenizer.add_tokens(extra_tokens, special_tokens=True)\n",
        "\n",
        "left_token = tokenizer.convert_tokens_to_ids('[L]')\n",
        "right_token = tokenizer.convert_tokens_to_ids('[R]')\n",
        "print(left_token, right_token)"
      ],
      "execution_count": null,
      "outputs": [
        {
          "output_type": "display_data",
          "data": {
            "application/vnd.jupyter.widget-view+json": {
              "model_id": "b371dcf33a764b5d83fec235d35765dd",
              "version_minor": 0,
              "version_major": 2
            },
            "text/plain": [
              "HBox(children=(FloatProgress(value=0.0, description='Downloading', max=385.0, style=ProgressStyle(description_…"
            ]
          },
          "metadata": {
            "tags": []
          }
        },
        {
          "output_type": "stream",
          "text": [
            "\n"
          ],
          "name": "stdout"
        },
        {
          "output_type": "display_data",
          "data": {
            "application/vnd.jupyter.widget-view+json": {
              "model_id": "0986d8898adf4da69c19ad7cf746d6cb",
              "version_minor": 0,
              "version_major": 2
            },
            "text/plain": [
              "HBox(children=(FloatProgress(value=0.0, description='Downloading', max=213450.0, style=ProgressStyle(descripti…"
            ]
          },
          "metadata": {
            "tags": []
          }
        },
        {
          "output_type": "stream",
          "text": [
            "\n",
            "28996 28997\n"
          ],
          "name": "stdout"
        }
      ]
    },
    {
      "cell_type": "markdown",
      "metadata": {
        "id": "m1vB7qsq2phr"
      },
      "source": [
        "# Load Data"
      ]
    },
    {
      "cell_type": "code",
      "metadata": {
        "id": "e-lKpdq4lvVo"
      },
      "source": [
        "# Load all the model predictions\n",
        "results = pd.read_csv('/content/drive/MyDrive/w266/Project/final/bioclinicalbert_512_pred_df.csv')\n",
        "baseline = pd.read_csv('/content/drive/MyDrive/w266/Project/final/baseline_pred_df.csv')\n",
        "bioclinical_512_cls = pd.read_csv('/content/drive/MyDrive/w266/Project/final/bioclinicalbert_512_cls_pred_df.csv')\n",
        "longformer_512_pred = pd.read_csv('/content/drive/MyDrive/w266/Project/final/longformer_512_pred_df.csv')\n",
        "longformer_512_window = pd.read_csv('/content/drive/MyDrive/w266/Project/final/longformer_512_window_pred_df.csv')\n",
        "longformer_768_pred = pd.read_csv('/content/drive/MyDrive/w266/Project/final/longformer_768_pred_df.csv')\n",
        "longformer_1500_pred = pd.read_csv('/content/drive/MyDrive/w266/Project/final/longformer_1500_cls_pred_df.csv')\n",
        "\n",
        "resample = pd.read_csv('/content/drive/MyDrive/w266/Project/final/resample_df.csv')"
      ],
      "execution_count": null,
      "outputs": []
    },
    {
      "cell_type": "code",
      "metadata": {
        "id": "5EEsXfni2LYx"
      },
      "source": [
        "# Get token distance based on bioclinical bert tokenizer\n",
        "results = results.drop(['left_0', 'left_1', 'right_0', 'right_1', 'distance'], axis=1)\n",
        "\n",
        "results['Token'] = results['Text'].apply(lambda x: tokenizer.encode(x, return_tensors='np'))\n",
        "results['left_0'] = results['Token'].apply(lambda x: np.where(x[0] == left_token)[0][0])\n",
        "results['left_1'] = results['Token'].apply(lambda x: np.where(x[0] == left_token)[0][1])\n",
        "results['right_0'] = results['Token'].apply(lambda x: np.where(x[0] == right_token)[0][0])\n",
        "results['right_1'] = results['Token'].apply(lambda x: np.where(x[0] == right_token)[0][1])\n",
        "\n",
        "results = results.drop('Token', axis=1)\n",
        "results = results.drop('Unnamed: 0', axis=1)\n",
        "\n",
        "results['left_right'] = abs(results['left_1'] - results['right_0']) \n",
        "results['right_left'] = abs(results['right_1'] - results['left_0']) \n",
        "\n",
        "results['distance'] = results[['left_right', 'right_left']].min(axis=1)"
      ],
      "execution_count": null,
      "outputs": []
    },
    {
      "cell_type": "code",
      "metadata": {
        "id": "9UKUdSDdlBrT"
      },
      "source": [
        "# Grab predictions from each model\n",
        "results['baseline'] = baseline['bioclinicalbert_labels']\n",
        "results['bcb_512_cls_pred'] = bioclinical_512_cls['bioclinicalbert_labels']\n",
        "results['lf_512_pred'] = longformer_512_pred['longformer_labels']\n",
        "results['lf_512_window_pred'] = longformer_512_window['longformer_labels']\n",
        "results['lf_768_pred'] = longformer_768_pred['longformer_labels']\n",
        "results['lf_1500_cls_pred'] = longformer_1500_pred['longformer_labels']"
      ],
      "execution_count": null,
      "outputs": []
    },
    {
      "cell_type": "code",
      "metadata": {
        "id": "EXxYdeu1RH2w"
      },
      "source": [
        "# Get labels for resample\n",
        "resample_labels = [0]*resample.shape[0]\n",
        "\n",
        "for i, r in enumerate(resample['TLINK']):\n",
        "    if r == 'AFTER':\n",
        "        resample_labels[i] = 0\n",
        "    elif r == 'OVERLAP': \n",
        "        resample_labels[i] = 1\n",
        "    elif r == 'BEFORE':\n",
        "        resample_labels[i] = 2\n",
        "\n",
        "resample['labels'] = resample_labels"
      ],
      "execution_count": null,
      "outputs": []
    },
    {
      "cell_type": "markdown",
      "metadata": {
        "id": "W_tfIAZI2rpL"
      },
      "source": [
        "# Classification Report"
      ]
    },
    {
      "cell_type": "code",
      "metadata": {
        "colab": {
          "base_uri": "https://localhost:8080/"
        },
        "id": "BiTRyqqQ2kaC",
        "outputId": "505e36a7-c340-47fb-d098-bf9c1aef902b"
      },
      "source": [
        "from sklearn.metrics import classification_report\n",
        "\n",
        "models = ['baseline', 'bio_clinical_bert_labels', 'bcb_512_cls_pred', 'lf_512_pred', 'lf_512_window_pred', 'lf_768_pred', 'lf_1500_cls_pred']\n",
        "\n",
        "print('Distribution of Test Set:')\n",
        "dist = np.unique(results['labels'], return_counts=True)[1]/sum(np.unique(results['labels'], return_counts=True)[1])\n",
        "print(dist)\n",
        "print()\n",
        "\n",
        "for m in models:\n",
        "    print('--------------------------------------------')\n",
        "    print(m)\n",
        "    print('--------------------------------------------')\n",
        "    print(classification_report(results['labels'], results[m], digits=3))\n"
      ],
      "execution_count": null,
      "outputs": [
        {
          "output_type": "stream",
          "text": [
            "Distribution of Test Set:\n",
            "[0.10017857 0.36410714 0.53571429]\n",
            "\n",
            "--------------------------------------------\n",
            "baseline\n",
            "--------------------------------------------\n",
            "              precision    recall  f1-score   support\n",
            "\n",
            "           0      0.350     0.455     0.396      1122\n",
            "           1      0.718     0.749     0.733      4078\n",
            "           2      0.857     0.784     0.819      6000\n",
            "\n",
            "    accuracy                          0.738     11200\n",
            "   macro avg      0.642     0.663     0.649     11200\n",
            "weighted avg      0.756     0.738     0.745     11200\n",
            "\n",
            "--------------------------------------------\n",
            "bio_clinical_bert_labels\n",
            "--------------------------------------------\n",
            "              precision    recall  f1-score   support\n",
            "\n",
            "           0      0.367     0.408     0.386      1122\n",
            "           1      0.628     0.818     0.711      4078\n",
            "           2      0.913     0.706     0.796      6000\n",
            "\n",
            "    accuracy                          0.717     11200\n",
            "   macro avg      0.636     0.644     0.631     11200\n",
            "weighted avg      0.754     0.717     0.724     11200\n",
            "\n",
            "--------------------------------------------\n",
            "bcb_512_cls_pred\n",
            "--------------------------------------------\n",
            "              precision    recall  f1-score   support\n",
            "\n",
            "           0      0.345     0.490     0.405      1122\n",
            "           1      0.673     0.772     0.719      4078\n",
            "           2      0.916     0.752     0.826      6000\n",
            "\n",
            "    accuracy                          0.733     11200\n",
            "   macro avg      0.645     0.672     0.650     11200\n",
            "weighted avg      0.770     0.733     0.745     11200\n",
            "\n",
            "--------------------------------------------\n",
            "lf_512_pred\n",
            "--------------------------------------------\n",
            "              precision    recall  f1-score   support\n",
            "\n",
            "           0      0.354     0.552     0.431      1122\n",
            "           1      0.685     0.733     0.708      4078\n",
            "           2      0.897     0.760     0.823      6000\n",
            "\n",
            "    accuracy                          0.729     11200\n",
            "   macro avg      0.645     0.682     0.654     11200\n",
            "weighted avg      0.765     0.729     0.742     11200\n",
            "\n",
            "--------------------------------------------\n",
            "lf_512_window_pred\n",
            "--------------------------------------------\n",
            "              precision    recall  f1-score   support\n",
            "\n",
            "           0      0.345     0.534     0.419      1122\n",
            "           1      0.656     0.760     0.704      4078\n",
            "           2      0.908     0.718     0.801      6000\n",
            "\n",
            "    accuracy                          0.714     11200\n",
            "   macro avg      0.636     0.670     0.642     11200\n",
            "weighted avg      0.760     0.714     0.728     11200\n",
            "\n",
            "--------------------------------------------\n",
            "lf_768_pred\n",
            "--------------------------------------------\n",
            "              precision    recall  f1-score   support\n",
            "\n",
            "           0      0.362     0.420     0.389      1122\n",
            "           1      0.615     0.833     0.707      4078\n",
            "           2      0.933     0.681     0.787      6000\n",
            "\n",
            "    accuracy                          0.710     11200\n",
            "   macro avg      0.637     0.644     0.628     11200\n",
            "weighted avg      0.760     0.710     0.718     11200\n",
            "\n",
            "--------------------------------------------\n",
            "lf_1500_cls_pred\n",
            "--------------------------------------------\n",
            "              precision    recall  f1-score   support\n",
            "\n",
            "           0      0.398     0.426     0.412      1122\n",
            "           1      0.591     0.842     0.695      4078\n",
            "           2      0.936     0.654     0.770      6000\n",
            "\n",
            "    accuracy                          0.700     11200\n",
            "   macro avg      0.642     0.641     0.626     11200\n",
            "weighted avg      0.757     0.700     0.707     11200\n",
            "\n"
          ],
          "name": "stdout"
        }
      ]
    },
    {
      "cell_type": "markdown",
      "metadata": {
        "id": "-s2Q7wUTzYDw"
      },
      "source": [
        "# Confusion Matrix - per Distance"
      ]
    },
    {
      "cell_type": "code",
      "metadata": {
        "colab": {
          "base_uri": "https://localhost:8080/",
          "height": 1000
        },
        "id": "lnFQc_db255M",
        "outputId": "8b437f56-9f6c-4684-d5a2-d643fac24aec"
      },
      "source": [
        "def plot_conf_matrix_distance(x, y, models):\n",
        "    \n",
        "    print()\n",
        "\n",
        "    fig, ax = plt.subplots(3, 3, figsize=(25,20))\n",
        "\n",
        "    for i, model in enumerate(models):\n",
        "        if i < 3:\n",
        "            skplt.metrics.plot_confusion_matrix(\n",
        "                results['labels'][(results['distance']>x) & (results['distance']<y)], \n",
        "                results[model][(results['distance']>x) & (results['distance']<y)],\n",
        "                normalize=True,\n",
        "                figsize=(5,5),\n",
        "                title=model,\n",
        "                title_fontsize='large',\n",
        "                text_fontsize='large',\n",
        "                ax=ax[0,i])\n",
        "        elif i < 6:\n",
        "            skplt.metrics.plot_confusion_matrix(\n",
        "                results['labels'][(results['distance']>x) & (results['distance']<y)], \n",
        "                results[model][(results['distance']>x) & (results['distance']<y)],\n",
        "                normalize=True,\n",
        "                figsize=(5,5),\n",
        "                title=model,\n",
        "                title_fontsize='large',\n",
        "                text_fontsize='large',\n",
        "                ax=ax[1,i-3])\n",
        "            \n",
        "        elif i < 9:\n",
        "            skplt.metrics.plot_confusion_matrix(\n",
        "                results['labels'][(results['distance']>x) & (results['distance']<y)], \n",
        "                results[model][(results['distance']>x) & (results['distance']<y)],\n",
        "                normalize=True,\n",
        "                figsize=(5,5),\n",
        "                title=model,\n",
        "                title_fontsize='large',\n",
        "                text_fontsize='large',\n",
        "                ax=ax[2,i-6])\n",
        "\n",
        "    \n",
        "plot_conf_matrix_distance(0, 16, models)"
      ],
      "execution_count": null,
      "outputs": [
        {
          "output_type": "stream",
          "text": [
            "\n"
          ],
          "name": "stdout"
        },
        {
          "output_type": "display_data",
          "data": {
            "image/png": "[encoded data removed]",
            "text/plain": [
              "<Figure size 1800x1440 with 16 Axes>"
            ]
          },
          "metadata": {
            "tags": [],
            "needs_background": "light"
          }
        }
      ]
    },
    {
      "cell_type": "markdown",
      "metadata": {
        "id": "OO1GOZOx5nNr"
      },
      "source": [
        "Model has challenges predicting class 0 in all distances.\n",
        "\n",
        "Model performs class 1 prediction well for shorter distances.\n",
        "\n",
        "Model performs class 2 prediction well for longer distances."
      ]
    },
    {
      "cell_type": "markdown",
      "metadata": {
        "id": "9tPGk9ar4rrA"
      },
      "source": [
        "# Data Distribution"
      ]
    },
    {
      "cell_type": "code",
      "metadata": {
        "colab": {
          "base_uri": "https://localhost:8080/",
          "height": 346
        },
        "id": "3nPF5QdUScLh",
        "outputId": "0d0bff28-db20-49fe-aaab-95ae16dbeea3"
      },
      "source": [
        "fig, ax = plt.subplots(1, 2, figsize=(20,5))\n",
        "sns.histplot(ax=ax[0], data=results, x='labels')\n",
        "sns.histplot(ax=ax[1], data=resample, x='labels')\n",
        "ax[0].set_title('Test Data')\n",
        "ax[1].set_title('Train Data')\n",
        "\n",
        "ax[0].set_ylim(0, 6500)\n",
        "ax[1].set_ylim(0, 6500)"
      ],
      "execution_count": null,
      "outputs": [
        {
          "output_type": "execute_result",
          "data": {
            "text/plain": [
              "(0.0, 6500.0)"
            ]
          },
          "metadata": {
            "tags": []
          },
          "execution_count": 39
        },
        {
          "output_type": "display_data",
          "data": {
            "image/png": "[encoded data removed]",
            "text/plain": [
              "<Figure size 1440x360 with 2 Axes>"
            ]
          },
          "metadata": {
            "tags": [],
            "needs_background": "light"
          }
        }
      ]
    },
    {
      "cell_type": "markdown",
      "metadata": {
        "id": "QiTs9f6bUlYf"
      },
      "source": [
        "The model was trained a resampled (with replacement) of the full train dataset, such that there is an even number of examples for each class.\n",
        "\n",
        "Though trained on the resampled dataset, the model was tasked to predict on the natural distribution of the test data."
      ]
    },
    {
      "cell_type": "code",
      "metadata": {
        "colab": {
          "base_uri": "https://localhost:8080/",
          "height": 350
        },
        "id": "QdUAiC601Cub",
        "outputId": "de29bea1-3de0-4fe4-8f13-4b43254c02e4"
      },
      "source": [
        "# Train data\n",
        "fig, ax = plt.subplots(1, 3, figsize=(20, 5))\n",
        "\n",
        "for i in range(0, 3):\n",
        "    temp = resample[resample['labels']==i]['distance']\n",
        "    title = ['AFTER', 'OVERLAP', 'BEFORE']\n",
        "\n",
        "    buckets = ['<16', '16-32', '32-64', '64-128', '128-256', '256-512']\n",
        "    bucket_dist = [\n",
        "    np.sum(temp < 16) ,              \n",
        "    np.sum((temp >= 16) & (temp < 32)),\n",
        "    np.sum((temp >= 32) & (temp < 64)),\n",
        "    np.sum((temp >= 64) & (temp < 128)),\n",
        "    np.sum((temp >= 128) & (temp < 256)),\n",
        "    np.sum((temp >= 256) & (temp < 512))]\n",
        "\n",
        "    sns.barplot(ax=ax[i], x=buckets, y=bucket_dist, palette='Pastel2')\n",
        "    ax[i].set_title(title[i])\n",
        "    ax[i].set_xlabel('Token Distance b/w Entities')\n",
        "    ax[i].set_ylabel('Total Samples in Train (Resampled)')\n",
        "    ax[i].set_ylim(0, 2000)"
      ],
      "execution_count": null,
      "outputs": [
        {
          "output_type": "display_data",
          "data": {
            "image/png": "[encoded data removed]",
            "text/plain": [
              "<Figure size 1440x360 with 3 Axes>"
            ]
          },
          "metadata": {
            "tags": [],
            "needs_background": "light"
          }
        }
      ]
    },
    {
      "cell_type": "markdown",
      "metadata": {
        "id": "QBIL3a2zSAOm"
      },
      "source": [
        "Both the test and train data have similar distributions.  We also notice that the distribution is different amongst classes.  Class 2 has a higher fraction of long distance entity pairs.  Whereas Class 0 and Class 1 have a higher fraction of short distance entity pairs."
      ]
    },
    {
      "cell_type": "markdown",
      "metadata": {
        "id": "mgjeel4iNpqk"
      },
      "source": [
        "# Performance vs Distance"
      ]
    },
    {
      "cell_type": "markdown",
      "metadata": {
        "id": "zjH6U9ay8dhb"
      },
      "source": [
        "The performance has a direct relationship on each class is proportional to the number of examples at each distance.  \n",
        "\n",
        "Labels 0 and 1 perform well at shorter distances and label 2 performs well with long distances.\n",
        "\n",
        "Therefore, not only should we resample for labels, we need to balance distances as well.  Unfortunately with such a small dataset, it makes it difficult."
      ]
    },
    {
      "cell_type": "code",
      "metadata": {
        "colab": {
          "base_uri": "https://localhost:8080/",
          "height": 607
        },
        "id": "0gMVRPzR8cmr",
        "outputId": "8384cb91-67c5-4959-e69e-5eb6d04e7a94"
      },
      "source": [
        "fig, ax = plt.subplots(2, 3, figsize=(20, 10))\n",
        "\n",
        "def correct_vs_distance(model):\n",
        "    # Add correct to column\n",
        "    results['correct'] = results['labels'] == results[model]\n",
        "\n",
        "    for i in range(0, 3):\n",
        "        # Distribution of test data\n",
        "        temp = results[results['labels']==i]['distance']\n",
        "\n",
        "        buckets = ['<16', '16-32', '32-64', '64-128', '128-256', '256-512']\n",
        "        bucket_dist = [\n",
        "        np.sum(temp < 16)/len(temp) ,              \n",
        "        np.sum((temp >= 16) & (temp < 32))/len(temp),\n",
        "        np.sum((temp >= 32) & (temp < 64))/len(temp),\n",
        "        np.sum((temp >= 64) & (temp < 128))/len(temp),\n",
        "        np.sum((temp >= 128) & (temp < 256))/len(temp),\n",
        "        np.sum((temp >= 256) & (temp < 512))/len(temp)]\n",
        "\n",
        "        sns.lineplot(ax=ax[0,i], x=buckets, y=bucket_dist, linestyle=\"dashed\")\n",
        "        ax[0,i].set_title(i)\n",
        "        ax[0,i].set_xlabel('Token Distance b/w Entities')\n",
        "        ax[0,i].set_ylabel('Fraction of Correct Prediction')\n",
        "\n",
        "        # Distribution of correct answers\n",
        "        temp = results[results['labels']==i][['distance', 'correct']]\n",
        "\n",
        "        buckets = ['<16', '16-32', '32-64', '64-128', '128-256', '256-512']\n",
        "        bucket_dist = [\n",
        "        np.sum(temp[temp['distance'] < 16]['correct'])/len(temp[temp['distance'] < 16]['correct']),\n",
        "        np.sum(temp[(temp['distance'] >= 16) & (temp['distance'] < 32)]['correct'])/\n",
        "            len(temp[(temp['distance'] >= 16) & (temp['distance'] < 32)]['correct']),\n",
        "        np.sum(temp[(temp['distance'] >= 32) & (temp['distance'] < 64)]['correct'])/\n",
        "            len(temp[(temp['distance'] >= 32) & (temp['distance'] < 64)]['correct']),\n",
        "        np.sum(temp[(temp['distance'] >= 64) & (temp['distance'] < 128)]['correct'])/\n",
        "            len(temp[(temp['distance'] >= 64) & (temp['distance'] < 128)]['correct']),\n",
        "        np.sum(temp[(temp['distance'] >= 128) & (temp['distance'] > 256)]['correct'])/\n",
        "            len(temp[(temp['distance'] >= 128) & (temp['distance'] > 256)]['correct']),\n",
        "        np.sum(temp[(temp['distance'] >= 256) & (temp['distance'] < 512)]['correct'])/\n",
        "            len(temp[(temp['distance'] >= 256) & (temp['distance'] < 512)]['correct'])\n",
        "            ]\n",
        "\n",
        "        sns.barplot(ax=ax[0,i], x=buckets, y=bucket_dist, palette='ch:s=-.2,r=.6')\n",
        "        ax[0,i].set_title(i)\n",
        "        ax[0,i].set_xlabel('Token Distance b/w Entities')\n",
        "        ax[0,i].set_ylabel('Fraction of Correct Prediction')\n",
        "        ax[0,i].set_ylim(0, 1)\n",
        "\n",
        "correct_vs_distance(models[1]) "
      ],
      "execution_count": null,
      "outputs": [
        {
          "output_type": "display_data",
          "data": {
            "image/png": "[encoded data removed]",
            "text/plain": [
              "<Figure size 1440x720 with 6 Axes>"
            ]
          },
          "metadata": {
            "tags": [],
            "needs_background": "light"
          }
        }
      ]
    },
    {
      "cell_type": "markdown",
      "metadata": {
        "id": "Ix9xZy8VYLEv"
      },
      "source": [
        "The data distribution matches the prediction distribution for class 1 and 2.  This may suggest more examples are needed for certain distances between entities to improve model.\n",
        "\n",
        "The distribution of the predictions are similar between BioClinical BERT and Longformer.  This is expected since both model architectures are similar.  Surprisingly, the pretraining of BioClinical BERT on medical text did not produce higher performance in comparison to Longformer."
      ]
    },
    {
      "cell_type": "markdown",
      "metadata": {
        "id": "JGObiLfdihqk"
      },
      "source": [
        "# Specific Examples of Misclassification"
      ]
    },
    {
      "cell_type": "code",
      "metadata": {
        "id": "c4822oiSIr3W"
      },
      "source": [
        "def get_example(i, d1, d2, label, correct, model):\n",
        "    if correct == False:\n",
        "        temp = results[(results['labels'] == label) & (results['labels'] != results[model])]\n",
        "        temp = temp[(temp['distance'] > d1) & (temp['distance'] < d2)].reset_index()\n",
        "        print('example: ', temp['ID'][i])\n",
        "        print('distance: ', temp['distance'][i])\n",
        "        print('(actual, predict): ', (temp['labels'][i], temp[model][i]))\n",
        "        print()\n",
        "        return temp['Text'].tolist()[i]\n",
        "    elif correct == True:\n",
        "        temp = results[(results['labels'] == label) & (results['labels'] == results[model])]\n",
        "        temp = temp[(temp['distance'] > d1) & (temp['distance'] < d2)].reset_index()\n",
        "        print('example: ', temp['ID'][i])\n",
        "        print('distance: ', temp['distance'][i])\n",
        "        print('(actual, predict): ', (temp['labels'][i], temp[model][i]))\n",
        "        print()\n",
        "        return temp['Text'].tolist()[i]"
      ],
      "execution_count": null,
      "outputs": []
    },
    {
      "cell_type": "markdown",
      "metadata": {
        "id": "up3cuyUFRKFK"
      },
      "source": [
        "Class 0"
      ]
    },
    {
      "cell_type": "code",
      "metadata": {
        "colab": {
          "base_uri": "https://localhost:8080/",
          "height": 511
        },
        "id": "ZakPkdGKJVi3",
        "outputId": "c7939ddb-83ad-4bf2-87ef-c48208db0cac"
      },
      "source": [
        "get_example(10, 256, 512, 0, False, models[5])"
      ],
      "execution_count": null,
      "outputs": [
        {
          "output_type": "stream",
          "text": [
            "example:  222_SECTIME7\n",
            "distance:  333\n",
            "(actual, predict):  (0, 2)\n",
            "\n"
          ],
          "name": "stdout"
        },
        {
          "output_type": "execute_result",
          "data": {
            "application/vnd.google.colaboratory.intrinsic+json": {
              "type": "string"
            },
            "text/plain": [
              "'Admission Date : [R] 2012-03-23 [R] Discharge Date : 2012-03-26 Service : MEDICINE History of Present Illness : 39 year old male w/ h/o low back pain on chronic narcotics presents after being found unresponsive at home . His daughter awoke him at 7 a.m. , reports he said he felt \" cold and shivery ,\" vomited several times , then drove her to school . According to his wife , he came home and went to sleep . When she tried to awaken him at 11 a.m. , she was unable to do so and called EMS . She did not notice any blood / urine / emesis / stool in the bed . EMS found him with agonal respirations and pinpoint pupils . FS 420 . He received 1 mg IV Narcan ( numerous bottles of oxycontin , percocet were found in room ); his pupils dilated to ~ 8 mm and he became combative / agitated . He was then intubated for airway protection ( etomidate / succinate ); it was a traumatic intubation  and one of his teeth was chipped . He was transported to Hallmark Health System Monica , where ABG 7.14/82/44 while bagging on 100% FiO2 . Wife reports that he drank a large amt of alcohol ( 12 bottles of beer ) night PTA . For 2 days PTA , he has expressed a wish to kill himself ( no clear plan , but fixing things around the house \" so things will be ready when I \\'m gone \"). In Monica , pt received [L] charcoal [L] , 500 mg IV levofloxacin , 500 mg IV metronidazole for presumed aspiration pna . Brief Hospital Course : A : 39 year old male w/ HTN , chronic LBP on narcotics presents after being found unresponsive at home . P : 1) Unresponsiveness : This is likely due todrug overdose ( known oxycontin use , (+) BNZ on tox screen ). Ddx : cardiac ischemia ( no ischemic EKG changes noted ), seizure w/ post-ictal state , CVA ( head CT neg ). His cardiac enzymes include only elevated CK , but not Shaffer , Juan he ruled out for MI . His mental status gradually improved from 03-23 to 03-24 . He was able to communicate appropriately as his level of narcotic medications waned in his blood . He was able to maintain a stable mental level for extubation on 03-24 . As of 3/21 , he was alert , appropriate and answers questions and follows command on exam . 2) Pulmonary infiltrates : THere was initially concern that he was developing ARDS from aspiration pneumonia in the setting of being found unconscious . He was intubated and was on mechanical ventilation from 9/13 10/11 , but he was started on levofloxacin  and flagyl for total of 4 days . ON 03-26 , his antibiotics were started as this most likely represent a transiet aspiration episode and not ARDS . 3) Airway protection : He was intubated in the field for airway protection He was extubated on 03-24 and was weaned off oxygen slowly from 03-24 to 03-26 without significant event . 4) Hypertension : He was restarted on his atenolol and verapamil once his blood pressure stabilized on 03-25 . 5) Depression : He was restarted on his paxil on 03-25 and was given 1:1 sitter for suicidal ideation leading up to his suicide leading up to this admission . He has not had further episodes while he was in the hospital . - plan to restart Paxil when taking PO 6) Hyperglycemia : Although he has no known history of_ diabetes , his elevated FS noted in field with glycosuria prompted fingerstick check but he has not required insulin coverage . 7) High amylase : He was admitted on 03-23 with elevated amylase but non-elevated lipase . This likely is not concerning of pancreatic process . His amylase trended down . He was restarted on regular diet on 4/14 4/17 after his extubation 8) Anemia - He was admitted with borderline anemia with Fe studies suggestive of anemia of chronic disease and his hct decreased in the setting fluid resucitation . His hct has stabilized and improved to close to 30 at the time of 3/21 . He reports that his primary physician is aware of his anemia and was in the process of followup .'"
            ]
          },
          "metadata": {
            "tags": []
          },
          "execution_count": 129
        }
      ]
    },
    {
      "cell_type": "code",
      "metadata": {
        "colab": {
          "base_uri": "https://localhost:8080/",
          "height": 579
        },
        "id": "QBlih173Ktkm",
        "outputId": "96d35793-6eb0-4ee5-9e67-6f46b2a6393c"
      },
      "source": [
        "get_example(2, 256, 512, 0, True, models[5])"
      ],
      "execution_count": null,
      "outputs": [
        {
          "output_type": "stream",
          "text": [
            "example:  442_TL49\n",
            "distance:  272\n",
            "(actual, predict):  (0, 0)\n",
            "\n"
          ],
          "name": "stdout"
        },
        {
          "output_type": "execute_result",
          "data": {
            "application/vnd.google.colaboratory.intrinsic+json": {
              "type": "string"
            },
            "text/plain": [
              "\"Admission Date : 2017-05-14 Discharge Date : 2017-06-26 Service : CMED CCU HISTORY OF PRESENT ILLNESS : Jadiara Harrison is twin #1 [R] born [R] to a 17 year-old primiparous mother at 31 weeks gestation . Mother was admitted to the Nantucket Cottage Hospital from Lawrence General Hospital Hospital on 05-01 with cervical effacement and preterm labor . She was treated with magnesium sulfate . She had previously been admitted here at the 24th week after a motor vehicle accident .She was treated with tocolysis and betamethasone at that time . Due to progressing labor and presentation of twins , delivery was by Cesarean section . Prenatal screens were notable for blood type 0 positive , antibody negative , hepatitis B surface antigen negative , RPR nonreactive . Rubella status was not documented . Group B strep status was unknown . Infant emerged from the breech position . She was vigorous . She was given blow-by oxygen and stimulation . Her Apgars were 7 at 1 minute and 9 at 5 minutes . She was brought to the CMED CSRU for further evaluation . HOSPITAL COURSE : Respiratory : On admission , infant did not require supplemental oxygen or respiratory support . Since that time , Jadiara has always been in room air without requiring supplemental oxygen . She was noted to have apnea of prematurity , treated with [L] caffeine [L] until 2017-06-04 . Since that time , she has had very rare spells , with none for over one week by the time of discharge . Cardiovascular : She was hemodynamically stable upon admission with normal blood pressures and heart rate . On day of life 15 , she was noted to have a murmur , eventually prompting evaluation by ECHO . The ECHO revealed an anomalous left coronary , with one end entering the right ventricular outflow tract and the other end not clearly defined . It was unable to be delineated whether this represented an anomalous left coronary artery arising from the pulmonary artery ( LCAPA ) or a left coronary artery fistula to the pulmonar artery . The right coronary was prominent , and there appeared to be coronary artery collateral vessels in the posterior apical myocardium . A small apical muscular VSD was also noted . Several additional ECHOs were performed , including an ECHO in the cardiology department at HealthSouth Rehab Hospital of Western Mass ., but the anatomy of the left coronary artery could not be further defined . Due to the risks of coronary ischemia if this represented an LCAPA , the infant was followed with regular ECHOs and EKGs during the remainder of hospitalization , with no evidence of ischemia , valvular regurgitation , or compromised ventricular function . She will be continued to be followed closely by cardiology as an outpatient , with likely plans for cardiac catheterization and surgical repair when she grows to 3.5 to 4 kg . Fluids , electrolytes and nutrition : The infant was initially maintained on IVF , with introduction of enteral feeds on day of life 2 . She was advanced to full volume enteral feeds by day of life 7 , and then to a maximum caloric density of 28 cals / oz . Oral feedings were introduced as tolerated . By the time of discharge , infant is feedign BM or enfamil 24 cals / oz PO ad lib , with adequate intake and adequate weight gain . Last nutrition labs were on 06-20 with AP of 208 , Ca 10.8 , and Phos 7.4. Gastrointestinal : The infant required phototherapy for hyperbilirubinemia through day of life 7 , with peak bilirubin of 7 / 0.3 on day of life 3 , and last bilirubin of 4.9 / 0.3 on day of life 9 . Hematologic / Infectious disease : CBC and blood culture were obtained upon admission revealing a white blood cell count of 9.0 with 25 polys and 0 bands ; hematocrit was 46.9% and platelets of 222,000 . Baby received 48 hours of Ampicillin and Gentamycin with negative cultures and a stable clinical course . Infant was treated with supplemental iron , and did not receive any blood transfusions . Last Hct was 30.6 on 06-20 with a reticulocyte count of 6.5%. Neurologic : Baby has been appropriate for gestational age . Social : Mother is 17 years old , and has been accompanied on the majority of her visits by her parents , both of whom are students . The infant 's maternal grandparents have been very involved in her care . Sensory : Initial opthalmologic exam on 06-05 revealed immature retinas in zone 3 , and repeat exam on 06-26 revealed mature retinas bilaterally . Infant passed hearing screen prior to discharge .\""
            ]
          },
          "metadata": {
            "tags": []
          },
          "execution_count": 132
        }
      ]
    }
  ]
}