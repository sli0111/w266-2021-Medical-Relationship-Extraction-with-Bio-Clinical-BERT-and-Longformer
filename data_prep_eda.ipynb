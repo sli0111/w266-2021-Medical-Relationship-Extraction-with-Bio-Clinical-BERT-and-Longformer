{
  "nbformat": 4,
  "nbformat_minor": 0,
  "metadata": {
    "colab": {
      "name": "EDA.ipynb",
      "provenance": [],
      "toc_visible": true
    },
    "kernelspec": {
      "name": "python3",
      "display_name": "Python 3"
    },
    "language_info": {
      "name": "python"
    },
    "widgets": {
      "application/vnd.jupyter.widget-state+json": {
        "6b52730730774dc1a44d9a34e0048d54": {
          "model_module": "@jupyter-widgets/controls",
          "model_name": "HBoxModel",
          "state": {
            "_view_name": "HBoxView",
            "_dom_classes": [],
            "_model_name": "HBoxModel",
            "_view_module": "@jupyter-widgets/controls",
            "_model_module_version": "1.5.0",
            "_view_count": null,
            "_view_module_version": "1.5.0",
            "box_style": "",
            "layout": "IPY_MODEL_67567b1ada2e4a28b8bfe56f8c85fe89",
            "_model_module": "@jupyter-widgets/controls",
            "children": [
              "IPY_MODEL_2916391c0d6d470d9c8b6a9255c35ac1",
              "IPY_MODEL_afc32a67fed5424abb1167f56e1ebf86"
            ]
          }
        },
        "67567b1ada2e4a28b8bfe56f8c85fe89": {
          "model_module": "@jupyter-widgets/base",
          "model_name": "LayoutModel",
          "state": {
            "_view_name": "LayoutView",
            "grid_template_rows": null,
            "right": null,
            "justify_content": null,
            "_view_module": "@jupyter-widgets/base",
            "overflow": null,
            "_model_module_version": "1.2.0",
            "_view_count": null,
            "flex_flow": null,
            "width": null,
            "min_width": null,
            "border": null,
            "align_items": null,
            "bottom": null,
            "_model_module": "@jupyter-widgets/base",
            "top": null,
            "grid_column": null,
            "overflow_y": null,
            "overflow_x": null,
            "grid_auto_flow": null,
            "grid_area": null,
            "grid_template_columns": null,
            "flex": null,
            "_model_name": "LayoutModel",
            "justify_items": null,
            "grid_row": null,
            "max_height": null,
            "align_content": null,
            "visibility": null,
            "align_self": null,
            "height": null,
            "min_height": null,
            "padding": null,
            "grid_auto_rows": null,
            "grid_gap": null,
            "max_width": null,
            "order": null,
            "_view_module_version": "1.2.0",
            "grid_template_areas": null,
            "object_position": null,
            "object_fit": null,
            "grid_auto_columns": null,
            "margin": null,
            "display": null,
            "left": null
          }
        },
        "2916391c0d6d470d9c8b6a9255c35ac1": {
          "model_module": "@jupyter-widgets/controls",
          "model_name": "FloatProgressModel",
          "state": {
            "_view_name": "ProgressView",
            "style": "IPY_MODEL_310979c660054ef1bd13f37a6c0f8988",
            "_dom_classes": [],
            "description": "Downloading: 100%",
            "_model_name": "FloatProgressModel",
            "bar_style": "success",
            "max": 385,
            "_view_module": "@jupyter-widgets/controls",
            "_model_module_version": "1.5.0",
            "value": 385,
            "_view_count": null,
            "_view_module_version": "1.5.0",
            "orientation": "horizontal",
            "min": 0,
            "description_tooltip": null,
            "_model_module": "@jupyter-widgets/controls",
            "layout": "IPY_MODEL_d2636233285543548beeabeddccd9ecd"
          }
        },
        "afc32a67fed5424abb1167f56e1ebf86": {
          "model_module": "@jupyter-widgets/controls",
          "model_name": "HTMLModel",
          "state": {
            "_view_name": "HTMLView",
            "style": "IPY_MODEL_eafab673d330436c9332fd273eb8a58a",
            "_dom_classes": [],
            "description": "",
            "_model_name": "HTMLModel",
            "placeholder": "​",
            "_view_module": "@jupyter-widgets/controls",
            "_model_module_version": "1.5.0",
            "value": " 385/385 [00:02&lt;00:00, 143B/s]",
            "_view_count": null,
            "_view_module_version": "1.5.0",
            "description_tooltip": null,
            "_model_module": "@jupyter-widgets/controls",
            "layout": "IPY_MODEL_b5d110f0ba724ac2b17a2750caab3930"
          }
        },
        "310979c660054ef1bd13f37a6c0f8988": {
          "model_module": "@jupyter-widgets/controls",
          "model_name": "ProgressStyleModel",
          "state": {
            "_view_name": "StyleView",
            "_model_name": "ProgressStyleModel",
            "description_width": "initial",
            "_view_module": "@jupyter-widgets/base",
            "_model_module_version": "1.5.0",
            "_view_count": null,
            "_view_module_version": "1.2.0",
            "bar_color": null,
            "_model_module": "@jupyter-widgets/controls"
          }
        },
        "d2636233285543548beeabeddccd9ecd": {
          "model_module": "@jupyter-widgets/base",
          "model_name": "LayoutModel",
          "state": {
            "_view_name": "LayoutView",
            "grid_template_rows": null,
            "right": null,
            "justify_content": null,
            "_view_module": "@jupyter-widgets/base",
            "overflow": null,
            "_model_module_version": "1.2.0",
            "_view_count": null,
            "flex_flow": null,
            "width": null,
            "min_width": null,
            "border": null,
            "align_items": null,
            "bottom": null,
            "_model_module": "@jupyter-widgets/base",
            "top": null,
            "grid_column": null,
            "overflow_y": null,
            "overflow_x": null,
            "grid_auto_flow": null,
            "grid_area": null,
            "grid_template_columns": null,
            "flex": null,
            "_model_name": "LayoutModel",
            "justify_items": null,
            "grid_row": null,
            "max_height": null,
            "align_content": null,
            "visibility": null,
            "align_self": null,
            "height": null,
            "min_height": null,
            "padding": null,
            "grid_auto_rows": null,
            "grid_gap": null,
            "max_width": null,
            "order": null,
            "_view_module_version": "1.2.0",
            "grid_template_areas": null,
            "object_position": null,
            "object_fit": null,
            "grid_auto_columns": null,
            "margin": null,
            "display": null,
            "left": null
          }
        },
        "eafab673d330436c9332fd273eb8a58a": {
          "model_module": "@jupyter-widgets/controls",
          "model_name": "DescriptionStyleModel",
          "state": {
            "_view_name": "StyleView",
            "_model_name": "DescriptionStyleModel",
            "description_width": "",
            "_view_module": "@jupyter-widgets/base",
            "_model_module_version": "1.5.0",
            "_view_count": null,
            "_view_module_version": "1.2.0",
            "_model_module": "@jupyter-widgets/controls"
          }
        },
        "b5d110f0ba724ac2b17a2750caab3930": {
          "model_module": "@jupyter-widgets/base",
          "model_name": "LayoutModel",
          "state": {
            "_view_name": "LayoutView",
            "grid_template_rows": null,
            "right": null,
            "justify_content": null,
            "_view_module": "@jupyter-widgets/base",
            "overflow": null,
            "_model_module_version": "1.2.0",
            "_view_count": null,
            "flex_flow": null,
            "width": null,
            "min_width": null,
            "border": null,
            "align_items": null,
            "bottom": null,
            "_model_module": "@jupyter-widgets/base",
            "top": null,
            "grid_column": null,
            "overflow_y": null,
            "overflow_x": null,
            "grid_auto_flow": null,
            "grid_area": null,
            "grid_template_columns": null,
            "flex": null,
            "_model_name": "LayoutModel",
            "justify_items": null,
            "grid_row": null,
            "max_height": null,
            "align_content": null,
            "visibility": null,
            "align_self": null,
            "height": null,
            "min_height": null,
            "padding": null,
            "grid_auto_rows": null,
            "grid_gap": null,
            "max_width": null,
            "order": null,
            "_view_module_version": "1.2.0",
            "grid_template_areas": null,
            "object_position": null,
            "object_fit": null,
            "grid_auto_columns": null,
            "margin": null,
            "display": null,
            "left": null
          }
        },
        "359815e091554d79824848b6d127077a": {
          "model_module": "@jupyter-widgets/controls",
          "model_name": "HBoxModel",
          "state": {
            "_view_name": "HBoxView",
            "_dom_classes": [],
            "_model_name": "HBoxModel",
            "_view_module": "@jupyter-widgets/controls",
            "_model_module_version": "1.5.0",
            "_view_count": null,
            "_view_module_version": "1.5.0",
            "box_style": "",
            "layout": "IPY_MODEL_8312b18e51a54aac847d470b0813d5b4",
            "_model_module": "@jupyter-widgets/controls",
            "children": [
              "IPY_MODEL_7d756554865d461f9ad66555f97ff9d2",
              "IPY_MODEL_a00d2f8b99864aa4bf7fc9e34c355825"
            ]
          }
        },
        "8312b18e51a54aac847d470b0813d5b4": {
          "model_module": "@jupyter-widgets/base",
          "model_name": "LayoutModel",
          "state": {
            "_view_name": "LayoutView",
            "grid_template_rows": null,
            "right": null,
            "justify_content": null,
            "_view_module": "@jupyter-widgets/base",
            "overflow": null,
            "_model_module_version": "1.2.0",
            "_view_count": null,
            "flex_flow": null,
            "width": null,
            "min_width": null,
            "border": null,
            "align_items": null,
            "bottom": null,
            "_model_module": "@jupyter-widgets/base",
            "top": null,
            "grid_column": null,
            "overflow_y": null,
            "overflow_x": null,
            "grid_auto_flow": null,
            "grid_area": null,
            "grid_template_columns": null,
            "flex": null,
            "_model_name": "LayoutModel",
            "justify_items": null,
            "grid_row": null,
            "max_height": null,
            "align_content": null,
            "visibility": null,
            "align_self": null,
            "height": null,
            "min_height": null,
            "padding": null,
            "grid_auto_rows": null,
            "grid_gap": null,
            "max_width": null,
            "order": null,
            "_view_module_version": "1.2.0",
            "grid_template_areas": null,
            "object_position": null,
            "object_fit": null,
            "grid_auto_columns": null,
            "margin": null,
            "display": null,
            "left": null
          }
        },
        "7d756554865d461f9ad66555f97ff9d2": {
          "model_module": "@jupyter-widgets/controls",
          "model_name": "FloatProgressModel",
          "state": {
            "_view_name": "ProgressView",
            "style": "IPY_MODEL_ff763f9416d44d768f0fa3b5365ec875",
            "_dom_classes": [],
            "description": "Downloading: 100%",
            "_model_name": "FloatProgressModel",
            "bar_style": "success",
            "max": 213450,
            "_view_module": "@jupyter-widgets/controls",
            "_model_module_version": "1.5.0",
            "value": 213450,
            "_view_count": null,
            "_view_module_version": "1.5.0",
            "orientation": "horizontal",
            "min": 0,
            "description_tooltip": null,
            "_model_module": "@jupyter-widgets/controls",
            "layout": "IPY_MODEL_c22677542135423ab573dda68ace1708"
          }
        },
        "a00d2f8b99864aa4bf7fc9e34c355825": {
          "model_module": "@jupyter-widgets/controls",
          "model_name": "HTMLModel",
          "state": {
            "_view_name": "HTMLView",
            "style": "IPY_MODEL_d85a94d30f5d4a5cb0bb1a9a823e1ed1",
            "_dom_classes": [],
            "description": "",
            "_model_name": "HTMLModel",
            "placeholder": "​",
            "_view_module": "@jupyter-widgets/controls",
            "_model_module_version": "1.5.0",
            "value": " 213k/213k [00:01&lt;00:00, 132kB/s]",
            "_view_count": null,
            "_view_module_version": "1.5.0",
            "description_tooltip": null,
            "_model_module": "@jupyter-widgets/controls",
            "layout": "IPY_MODEL_15813faabf8d432d9f29889e449ca308"
          }
        },
        "ff763f9416d44d768f0fa3b5365ec875": {
          "model_module": "@jupyter-widgets/controls",
          "model_name": "ProgressStyleModel",
          "state": {
            "_view_name": "StyleView",
            "_model_name": "ProgressStyleModel",
            "description_width": "initial",
            "_view_module": "@jupyter-widgets/base",
            "_model_module_version": "1.5.0",
            "_view_count": null,
            "_view_module_version": "1.2.0",
            "bar_color": null,
            "_model_module": "@jupyter-widgets/controls"
          }
        },
        "c22677542135423ab573dda68ace1708": {
          "model_module": "@jupyter-widgets/base",
          "model_name": "LayoutModel",
          "state": {
            "_view_name": "LayoutView",
            "grid_template_rows": null,
            "right": null,
            "justify_content": null,
            "_view_module": "@jupyter-widgets/base",
            "overflow": null,
            "_model_module_version": "1.2.0",
            "_view_count": null,
            "flex_flow": null,
            "width": null,
            "min_width": null,
            "border": null,
            "align_items": null,
            "bottom": null,
            "_model_module": "@jupyter-widgets/base",
            "top": null,
            "grid_column": null,
            "overflow_y": null,
            "overflow_x": null,
            "grid_auto_flow": null,
            "grid_area": null,
            "grid_template_columns": null,
            "flex": null,
            "_model_name": "LayoutModel",
            "justify_items": null,
            "grid_row": null,
            "max_height": null,
            "align_content": null,
            "visibility": null,
            "align_self": null,
            "height": null,
            "min_height": null,
            "padding": null,
            "grid_auto_rows": null,
            "grid_gap": null,
            "max_width": null,
            "order": null,
            "_view_module_version": "1.2.0",
            "grid_template_areas": null,
            "object_position": null,
            "object_fit": null,
            "grid_auto_columns": null,
            "margin": null,
            "display": null,
            "left": null
          }
        },
        "d85a94d30f5d4a5cb0bb1a9a823e1ed1": {
          "model_module": "@jupyter-widgets/controls",
          "model_name": "DescriptionStyleModel",
          "state": {
            "_view_name": "StyleView",
            "_model_name": "DescriptionStyleModel",
            "description_width": "",
            "_view_module": "@jupyter-widgets/base",
            "_model_module_version": "1.5.0",
            "_view_count": null,
            "_view_module_version": "1.2.0",
            "_model_module": "@jupyter-widgets/controls"
          }
        },
        "15813faabf8d432d9f29889e449ca308": {
          "model_module": "@jupyter-widgets/base",
          "model_name": "LayoutModel",
          "state": {
            "_view_name": "LayoutView",
            "grid_template_rows": null,
            "right": null,
            "justify_content": null,
            "_view_module": "@jupyter-widgets/base",
            "overflow": null,
            "_model_module_version": "1.2.0",
            "_view_count": null,
            "flex_flow": null,
            "width": null,
            "min_width": null,
            "border": null,
            "align_items": null,
            "bottom": null,
            "_model_module": "@jupyter-widgets/base",
            "top": null,
            "grid_column": null,
            "overflow_y": null,
            "overflow_x": null,
            "grid_auto_flow": null,
            "grid_area": null,
            "grid_template_columns": null,
            "flex": null,
            "_model_name": "LayoutModel",
            "justify_items": null,
            "grid_row": null,
            "max_height": null,
            "align_content": null,
            "visibility": null,
            "align_self": null,
            "height": null,
            "min_height": null,
            "padding": null,
            "grid_auto_rows": null,
            "grid_gap": null,
            "max_width": null,
            "order": null,
            "_view_module_version": "1.2.0",
            "grid_template_areas": null,
            "object_position": null,
            "object_fit": null,
            "grid_auto_columns": null,
            "margin": null,
            "display": null,
            "left": null
          }
        }
      }
    }
  },
  "cells": [
    {
      "cell_type": "markdown",
      "metadata": {
        "id": "3XQ-ztrHAQWa"
      },
      "source": [
        "# Introduction\n",
        "\n",
        "This notebook performs EDA on the parsed i2b2 2012 temporal relation dataset.  Please refer to the data_parse notebook for information on the parsing."
      ]
    },
    {
      "cell_type": "markdown",
      "metadata": {
        "id": "dAH1wLZdANax"
      },
      "source": [
        "# Libaries\n"
      ]
    },
    {
      "cell_type": "code",
      "metadata": {
        "id": "KLVaFZSqNnG3"
      },
      "source": [
        "%%capture\n",
        "!pip install transformers\n",
        "!pip install tdqm"
      ],
      "execution_count": null,
      "outputs": []
    },
    {
      "cell_type": "code",
      "metadata": {
        "id": "0IdXMKCy_9fM"
      },
      "source": [
        "import numpy as np\n",
        "import pandas as pd\n",
        "import matplotlib.pyplot as plt\n",
        "import seaborn as sns"
      ],
      "execution_count": null,
      "outputs": []
    },
    {
      "cell_type": "markdown",
      "metadata": {
        "id": "Wer6rEFvGkPL"
      },
      "source": [
        "# Load Data\n"
      ]
    },
    {
      "cell_type": "code",
      "metadata": {
        "colab": {
          "base_uri": "https://localhost:8080/",
          "height": 221
        },
        "id": "zUfsAninAAym",
        "outputId": "37aaede3-81e7-4a55-9890-b97d779091fa"
      },
      "source": [
        "# Paths\n",
        "train_path = '/content/drive/MyDrive/w266/Project/corpus/i2b2/train_1.txt'\n",
        "test_path = '/content/drive/MyDrive/w266/Project/corpus/i2b2/test_1.txt'\n",
        "\n",
        "# Load Data\n",
        "train_df = pd.read_csv(train_path, delimiter='\\t', header=None)\n",
        "test_df = pd.read_csv(test_path, delimiter='\\t', header=None)\n",
        "\n",
        "train_df.columns = ['ID', 'TLINK', 'Target_A', 'Target_B', 'Text', 'End']\n",
        "test_df.columns = ['ID', 'TLINK', 'TargetA', 'Target_B', 'Text', 'End']\n",
        "\n",
        "\n",
        "# Get only SIMULTANEOUS, OVERLAP, and BEFORE\n",
        "train_df = train_df[train_df['TLINK'].isin(['AFTER', 'OVERLAP', 'BEFORE'])].reset_index().drop('index', axis=1)\n",
        "test_df = test_df[test_df['TLINK'].isin(['AFTER', 'OVERLAP', 'BEFORE'])].reset_index().drop('index', axis=1)\n",
        "\n",
        "display(train_df.head())\n",
        "\n",
        "print('shape: ', train_df.shape)"
      ],
      "execution_count": null,
      "outputs": [
        {
          "output_type": "display_data",
          "data": {
            "text/html": [
              "<div>\n",
              "<style scoped>\n",
              "    .dataframe tbody tr th:only-of-type {\n",
              "        vertical-align: middle;\n",
              "    }\n",
              "\n",
              "    .dataframe tbody tr th {\n",
              "        vertical-align: top;\n",
              "    }\n",
              "\n",
              "    .dataframe thead th {\n",
              "        text-align: right;\n",
              "    }\n",
              "</style>\n",
              "<table border=\"1\" class=\"dataframe\">\n",
              "  <thead>\n",
              "    <tr style=\"text-align: right;\">\n",
              "      <th></th>\n",
              "      <th>ID</th>\n",
              "      <th>TLINK</th>\n",
              "      <th>Target_A</th>\n",
              "      <th>Target_B</th>\n",
              "      <th>Text</th>\n",
              "      <th>End</th>\n",
              "    </tr>\n",
              "  </thead>\n",
              "  <tbody>\n",
              "    <tr>\n",
              "      <th>0</th>\n",
              "      <td>92_TL15</td>\n",
              "      <td>AFTER</td>\n",
              "      <td>the Operating Room</td>\n",
              "      <td>admitted</td>\n",
              "      <td>ADMISSION DATE : 12/13/2002 DISCHARGE DATE : 1...</td>\n",
              "      <td>end</td>\n",
              "    </tr>\n",
              "    <tr>\n",
              "      <th>1</th>\n",
              "      <td>92_TL16</td>\n",
              "      <td>OVERLAP</td>\n",
              "      <td>the Operating Room</td>\n",
              "      <td>the Operating Room</td>\n",
              "      <td>ADMISSION DATE : 12/13/2002 DISCHARGE DATE : 1...</td>\n",
              "      <td>end</td>\n",
              "    </tr>\n",
              "    <tr>\n",
              "      <th>2</th>\n",
              "      <td>92_TL17</td>\n",
              "      <td>OVERLAP</td>\n",
              "      <td>an unremarkable laparoscopic tubal ligation</td>\n",
              "      <td>the Operating Room</td>\n",
              "      <td>ADMISSION DATE : 12/13/2002 DISCHARGE DATE : 1...</td>\n",
              "      <td>end</td>\n",
              "    </tr>\n",
              "    <tr>\n",
              "      <th>3</th>\n",
              "      <td>92_TL19</td>\n",
              "      <td>OVERLAP</td>\n",
              "      <td>The estimated blood loss</td>\n",
              "      <td>the Operating Room</td>\n",
              "      <td>ADMISSION DATE : 12/13/2002 DISCHARGE DATE : 1...</td>\n",
              "      <td>end</td>\n",
              "    </tr>\n",
              "    <tr>\n",
              "      <th>4</th>\n",
              "      <td>92_TL2</td>\n",
              "      <td>BEFORE</td>\n",
              "      <td>Gravida</td>\n",
              "      <td>presented</td>\n",
              "      <td>ADMISSION DATE : 12/13/2002 DISCHARGE DATE : 1...</td>\n",
              "      <td>end</td>\n",
              "    </tr>\n",
              "  </tbody>\n",
              "</table>\n",
              "</div>"
            ],
            "text/plain": [
              "        ID    TLINK  ...                                               Text  End\n",
              "0  92_TL15    AFTER  ...  ADMISSION DATE : 12/13/2002 DISCHARGE DATE : 1...  end\n",
              "1  92_TL16  OVERLAP  ...  ADMISSION DATE : 12/13/2002 DISCHARGE DATE : 1...  end\n",
              "2  92_TL17  OVERLAP  ...  ADMISSION DATE : 12/13/2002 DISCHARGE DATE : 1...  end\n",
              "3  92_TL19  OVERLAP  ...  ADMISSION DATE : 12/13/2002 DISCHARGE DATE : 1...  end\n",
              "4   92_TL2   BEFORE  ...  ADMISSION DATE : 12/13/2002 DISCHARGE DATE : 1...  end\n",
              "\n",
              "[5 rows x 6 columns]"
            ]
          },
          "metadata": {
            "tags": []
          }
        },
        {
          "output_type": "stream",
          "text": [
            "shape:  (22739, 6)\n"
          ],
          "name": "stdout"
        }
      ]
    },
    {
      "cell_type": "code",
      "metadata": {
        "colab": {
          "base_uri": "https://localhost:8080/"
        },
        "id": "lTDQP0u6AMLC",
        "outputId": "60664539-fa2c-4cf5-cec2-6cb5e61bf81f"
      },
      "source": [
        "# Map labels to numbers\n",
        "TLINK_map = {'AFTER':0,\n",
        "             'OVERLAP': 1,\n",
        "             'BEFORE': 2}\n",
        "\n",
        "y_train = np.asarray(train_df['TLINK'].apply(lambda x: TLINK_map[x])).reshape(-1,1)\n",
        "y_test = np.asarray(test_df['TLINK'].apply(lambda x: TLINK_map[x])).reshape(-1,1)\n",
        "\n",
        "# distribution\n",
        "dist = np.round(np.unique(y_train, return_counts=True)[1]/sum(np.unique(y_train, return_counts=True)[1]) * 100, 0) \n",
        "print(dist)"
      ],
      "execution_count": null,
      "outputs": [
        {
          "output_type": "stream",
          "text": [
            "[10. 31. 59.]\n"
          ],
          "name": "stdout"
        }
      ]
    },
    {
      "cell_type": "markdown",
      "metadata": {
        "id": "r2KJ7spwxGER"
      },
      "source": [
        "# Distribution"
      ]
    },
    {
      "cell_type": "markdown",
      "metadata": {
        "id": "El7tyFYWHLM2"
      },
      "source": [
        "## Classes"
      ]
    },
    {
      "cell_type": "code",
      "metadata": {
        "colab": {
          "base_uri": "https://localhost:8080/",
          "height": 248
        },
        "id": "KxNn4C0VA1tL",
        "outputId": "fcc76633-bac1-4976-92c2-385ec55a3499"
      },
      "source": [
        "# Pie chart, where the slices will be ordered and plotted counter-clockwise:\n",
        "labels = list(TLINK_map.keys())\n",
        "sizes = dist\n",
        "explode = (0, 0, 0.1)  # only \"explode\" the 2nd slice (i.e. 'Hogs')\n",
        "\n",
        "fig1, ax1 = plt.subplots()\n",
        "ax1.pie(sizes, explode=explode, labels=labels, autopct='%1.1f%%',\n",
        "        shadow=True, startangle=90)\n",
        "ax1.axis('equal')  # Equal aspect ratio ensures that pie is drawn as a circle.\n",
        "\n",
        "plt.show()"
      ],
      "execution_count": null,
      "outputs": [
        {
          "output_type": "display_data",
          "data": {
            "image/png": "[encoded data removed]",
            "text/plain": [
              "<Figure size 432x288 with 1 Axes>"
            ]
          },
          "metadata": {
            "tags": []
          }
        }
      ]
    },
    {
      "cell_type": "markdown",
      "metadata": {
        "id": "Mw9FFRddHNVy"
      },
      "source": [
        "## Token Distance"
      ]
    },
    {
      "cell_type": "markdown",
      "metadata": {
        "id": "NgPRcaNxxQZj"
      },
      "source": [
        "The text is tokenized and the distances between tokens are calculated."
      ]
    },
    {
      "cell_type": "code",
      "metadata": {
        "colab": {
          "base_uri": "https://localhost:8080/",
          "height": 132,
          "referenced_widgets": [
            "6b52730730774dc1a44d9a34e0048d54",
            "67567b1ada2e4a28b8bfe56f8c85fe89",
            "2916391c0d6d470d9c8b6a9255c35ac1",
            "afc32a67fed5424abb1167f56e1ebf86",
            "310979c660054ef1bd13f37a6c0f8988",
            "d2636233285543548beeabeddccd9ecd",
            "eafab673d330436c9332fd273eb8a58a",
            "b5d110f0ba724ac2b17a2750caab3930",
            "359815e091554d79824848b6d127077a",
            "8312b18e51a54aac847d470b0813d5b4",
            "7d756554865d461f9ad66555f97ff9d2",
            "a00d2f8b99864aa4bf7fc9e34c355825",
            "ff763f9416d44d768f0fa3b5365ec875",
            "c22677542135423ab573dda68ace1708",
            "d85a94d30f5d4a5cb0bb1a9a823e1ed1",
            "15813faabf8d432d9f29889e449ca308"
          ]
        },
        "id": "q5l2-DzvNmPv",
        "outputId": "9a5bc806-46dd-40e8-9e45-f4d91f168599"
      },
      "source": [
        "# Import tokenizer \n",
        "from transformers import AutoTokenizer\n",
        "\n",
        "tokenizer = AutoTokenizer.from_pretrained(\"emilyalsentzer/Bio_ClinicalBERT\")\n",
        "\n",
        "# Add special tokens\n",
        "extra_tokens = ['[L]', '[R]']\n",
        "tokenizer.add_tokens(extra_tokens, special_tokens=True)\n",
        "\n",
        "left_token = tokenizer.convert_tokens_to_ids('[L]')\n",
        "right_token = tokenizer.convert_tokens_to_ids('[R]')\n",
        "print(left_token, right_token)"
      ],
      "execution_count": null,
      "outputs": [
        {
          "output_type": "display_data",
          "data": {
            "application/vnd.jupyter.widget-view+json": {
              "model_id": "6b52730730774dc1a44d9a34e0048d54",
              "version_minor": 0,
              "version_major": 2
            },
            "text/plain": [
              "HBox(children=(FloatProgress(value=0.0, description='Downloading', max=385.0, style=ProgressStyle(description_…"
            ]
          },
          "metadata": {
            "tags": []
          }
        },
        {
          "output_type": "stream",
          "text": [
            "\n"
          ],
          "name": "stdout"
        },
        {
          "output_type": "display_data",
          "data": {
            "application/vnd.jupyter.widget-view+json": {
              "model_id": "359815e091554d79824848b6d127077a",
              "version_minor": 0,
              "version_major": 2
            },
            "text/plain": [
              "HBox(children=(FloatProgress(value=0.0, description='Downloading', max=213450.0, style=ProgressStyle(descripti…"
            ]
          },
          "metadata": {
            "tags": []
          }
        },
        {
          "output_type": "stream",
          "text": [
            "\n",
            "28996 28997\n"
          ],
          "name": "stdout"
        }
      ]
    },
    {
      "cell_type": "code",
      "metadata": {
        "id": "0m0wi5h-LIeB"
      },
      "source": [
        "# Calculate distance between entity pairs\n",
        "def get_distances(results):\n",
        "    results['Token'] = results['Text'].apply(lambda x: tokenizer.encode(x, return_tensors='np'))\n",
        "    results['left_0'] = results['Token'].apply(lambda x: np.where(x[0] == left_token)[0][0])\n",
        "    results['left_1'] = results['Token'].apply(lambda x: np.where(x[0] == left_token)[0][1])\n",
        "    results['right_0'] = results['Token'].apply(lambda x: np.where(x[0] == right_token)[0][0])\n",
        "    results['right_1'] = results['Token'].apply(lambda x: np.where(x[0] == right_token)[0][1])\n",
        "\n",
        "    results = results.drop('Token', axis=1)\n",
        "#     results = results.drop('Unnamed: 0', axis=1)\n",
        "\n",
        "    # Since the order b/w [L] and [R] maybe flipped, use shortest distance\n",
        "    results['left_right'] = abs(results['left_1'] - results['right_0']) \n",
        "    results['right_left'] = abs(results['right_1'] - results['left_0']) \n",
        "\n",
        "    results['distance'] = results[['left_right', 'right_left']].min(axis=1)\n",
        "    \n",
        "    return results\n",
        "\n",
        "train_df = get_distances(train_df)\n",
        "test_df = get_distances(test_df)"
      ],
      "execution_count": null,
      "outputs": []
    },
    {
      "cell_type": "code",
      "metadata": {
        "id": "CYENKeQMMjQR"
      },
      "source": [
        "# Buckets for distance\n",
        "buckets = ['<256', '<512', '<768', '<1024', '>0']\n",
        "bucket_dist = [\n",
        "np.sum((train_df['dist'] < 256))/train_df.shape[0],\n",
        "np.sum((train_df['dist'] < 512))/train_df.shape[0],\n",
        "np.sum((train_df['dist'] < 768))/train_df.shape[0],\n",
        "np.sum((train_df['dist'] < 1024))/train_df.shape[0],\n",
        "np.sum((train_df['dist'] > 0))/train_df.shape[0]]"
      ],
      "execution_count": null,
      "outputs": []
    },
    {
      "cell_type": "code",
      "metadata": {
        "colab": {
          "base_uri": "https://localhost:8080/",
          "height": 312
        },
        "id": "8wUI9c_1QFbw",
        "outputId": "e34ae41b-b3e2-448c-9be5-c0caa0c78de5"
      },
      "source": [
        "# Graph\n",
        "ax = sns.barplot(x=buckets, y=bucket_dist, palette='Pastel2')\n",
        "plt.title('Cumulative Distribution of Distance between Entity Pairs')\n",
        "plt.xlabel('Token Distance')\n",
        "plt.ylabel('Fraction of Total Entity Pairs')"
      ],
      "execution_count": null,
      "outputs": [
        {
          "output_type": "execute_result",
          "data": {
            "text/plain": [
              "Text(0, 0.5, 'Fraction of Total Entity Pairs')"
            ]
          },
          "metadata": {
            "tags": []
          },
          "execution_count": 89
        },
        {
          "output_type": "display_data",
          "data": {
            "image/png": "[encoded data removed]",
            "text/plain": [
              "<Figure size 432x288 with 1 Axes>"
            ]
          },
          "metadata": {
            "tags": [],
            "needs_background": "light"
          }
        }
      ]
    },
    {
      "cell_type": "markdown",
      "metadata": {
        "id": "hS7yREYTg2WD"
      },
      "source": [
        "## Entities from the start\n",
        "\n",
        "Find the fraction of tokens excluded when truncating at 512"
      ]
    },
    {
      "cell_type": "code",
      "metadata": {
        "colab": {
          "base_uri": "https://localhost:8080/"
        },
        "id": "3QRhstxxg6a0",
        "outputId": "5e94b79f-33d4-4235-978e-d6ce352a6980"
      },
      "source": [
        "# Buckets\n",
        "buckets = ['<256', '<512', '<768', '<1024', '>0']\n",
        "\n",
        "entities_pairs_from_start = [\n",
        "np.sum((train_df['left_1'] < 256) & (train_df['right_1'] < 256))/train_df.shape[0],\n",
        "np.sum((train_df['left_1'] < 512) & (train_df['right_1'] < 512))/train_df.shape[0],\n",
        "np.sum((train_df['left_1'] < 768) & (train_df['right_1'] < 768))/train_df.shape[0],\n",
        "np.sum((train_df['left_1'] < 1024) & (train_df['right_1'] < 1024))/train_df.shape[0],\n",
        "np.sum((train_df['left_1'] > 0) & (train_df['right_1'] > 0))/train_df.shape[0]]\n",
        "\n",
        "entities_pairs_from_start"
      ],
      "execution_count": null,
      "outputs": [
        {
          "output_type": "execute_result",
          "data": {
            "text/plain": [
              "[0.32354105281674655,\n",
              " 0.6314701613967193,\n",
              " 0.7993755222305291,\n",
              " 0.8779629711069088,\n",
              " 1.0]"
            ]
          },
          "metadata": {
            "tags": []
          },
          "execution_count": 85
        }
      ]
    },
    {
      "cell_type": "code",
      "metadata": {
        "colab": {
          "base_uri": "https://localhost:8080/",
          "height": 312
        },
        "id": "ZoSon_P0iXYA",
        "outputId": "1c94c4f9-df3f-46eb-d7f0-4e84ee0fb851"
      },
      "source": [
        "# Graph\n",
        "sns.barplot(x=buckets, y=entities_pairs_from_start, palette='Pastel2')\n",
        "plt.title('Cumulative Distribution of Entity Pairs from Start of Text')\n",
        "plt.xlabel('Token Distance')\n",
        "plt.ylabel('Fraction of Total Entity Pairs')"
      ],
      "execution_count": null,
      "outputs": [
        {
          "output_type": "execute_result",
          "data": {
            "text/plain": [
              "Text(0, 0.5, 'Fraction of Total Entity Pairs')"
            ]
          },
          "metadata": {
            "tags": []
          },
          "execution_count": 90
        },
        {
          "output_type": "display_data",
          "data": {
            "image/png": "[encoded data removed]",
            "text/plain": [
              "<Figure size 432x288 with 1 Axes>"
            ]
          },
          "metadata": {
            "tags": [],
            "needs_background": "light"
          }
        }
      ]
    },
    {
      "cell_type": "markdown",
      "metadata": {
        "id": "LUUKEY5PABi0"
      },
      "source": [
        "# Prepare Subset of Data"
      ]
    },
    {
      "cell_type": "code",
      "metadata": {
        "id": "sPPEnjipwGG9"
      },
      "source": [
        "# Get data that has both left and right embeddings shorter than 500, to give room for tokenizer incase 512\n",
        "short_train_df = train_df[(train_df['left_1'] < 500) & (train_df['right_1'] < 500)]\n",
        "short_test_df = test_df[(test_df['left_1'] < 500) & (test_df['right_1'] < 500)]\n",
        "\n",
        "print(short_train_df.shape)\n",
        "print(short_test_df.shape)"
      ],
      "execution_count": null,
      "outputs": []
    },
    {
      "cell_type": "code",
      "metadata": {
        "id": "j_MuWttkAQUg"
      },
      "source": [
        "# Create a mini dataset to randomize\n",
        "mini_df = short_train_df.sample(short_train_df.shape[0]).reset_index().drop('index', axis=1)\n",
        "mini_test_df = short_test_df.sample(short_test_df.shape[0]).reset_index().drop('index', axis=1)\n",
        "\n",
        "mini_df.head()"
      ],
      "execution_count": null,
      "outputs": []
    },
    {
      "cell_type": "code",
      "metadata": {
        "id": "3P0du6U0CHhk"
      },
      "source": [
        "# Map labels to numbers\n",
        "TLINK_map = {'AFTER':0,\n",
        "             'OVERLAP': 1,\n",
        "             'BEFORE': 2}\n",
        "\n",
        "y_mini = np.asarray(mini_df['TLINK'].apply(lambda x: TLINK_map[x])).reshape(-1,1)\n",
        "y_mini_test = np.asarray(mini_test_df['TLINK'].apply(lambda x: TLINK_map[x])).reshape(-1,1)\n",
        "\n",
        "# Distribution\n",
        "print('train')\n",
        "dist = np.unique(y_mini, return_counts=True)[1]/sum(np.unique(y_mini return_counts=True)[1])\n",
        "print(dist)\n",
        "\n",
        "print()\n",
        "print('test')\n",
        "dist = np.unique(y_mini_test, return_counts=True)[1]/sum(np.unique(y_mini_test, return_counts=True)[1])\n",
        "print(dist)"
      ],
      "execution_count": null,
      "outputs": []
    },
    {
      "cell_type": "code",
      "metadata": {
        "id": "roi3NBtkBDnv"
      },
      "source": [
        "# Resample to balance class\n",
        "def create_resample(tlink_map = TLINK_map, sample_size=25, labels=None, features=None):\n",
        "    resample_df = pd.DataFrame(columns = features.columns)\n",
        "    for i in list(TLINK_map.values()):\n",
        "        all_idx = np.where(labels == i)[0]\n",
        "        rand_idx = np.random.choice(all_idx, sample_size)\n",
        "        sample_df = features.iloc[rand_idx, :]\n",
        "        resample_df = pd.concat([resample_df, sample_df], axis=0)\n",
        "        resample_df = resample_df.sample(frac=1)\n",
        "        resample_labels = np.asarray(resample_df ['TLINK'].apply(lambda x: TLINK_map[x])).reshape(-1,1)\n",
        "\n",
        "    counts = np.unique(resample_labels, return_counts=True)[1]\n",
        "    print(counts/np.sum(counts))\n",
        "\n",
        "    return resample_df.reset_index().drop('index', axis=1), resample_labels"
      ],
      "execution_count": null,
      "outputs": []
    },
    {
      "cell_type": "code",
      "metadata": {
        "id": "fDkQSX9iBLu4"
      },
      "source": [
        "resample_df, y_resample = create_resample(tlink_map=TLINK_map, \n",
        "                                        sample_size=3000, \n",
        "                                        labels=y_mini, \n",
        "                                        features=mini_df)\n",
        "print(resample_df.shape)\n",
        "resample_class_weights = {0:1, 1:1, 2:1}"
      ],
      "execution_count": null,
      "outputs": []
    },
    {
      "cell_type": "code",
      "metadata": {
        "id": "L8d2hgKDBNpQ"
      },
      "source": [
        "# Train data distribution\n",
        "import seaborn as sns\n",
        "fig, ax = plt.subplots(1, 3, figsize=(20, 5))\n",
        "\n",
        "for i in range(0, 3):\n",
        "    temp = resample_df[y_resample==i]['distance']\n",
        "    title = ['AFTER', 'OVERLAP', 'BEFORE']\n",
        "\n",
        "    buckets = ['<16', '16-32', '32-64', '64-128', '128-256', '256-512']\n",
        "    bucket_dist = [\n",
        "    np.sum(temp < 16)/len(temp) ,              \n",
        "    np.sum((temp >= 16) & (temp < 32))/len(temp),\n",
        "    np.sum((temp >= 32) & (temp < 64))/len(temp),\n",
        "    np.sum((temp >= 64) & (temp < 128))/len(temp),\n",
        "    np.sum((temp >= 128) & (temp < 256))/len(temp),\n",
        "    np.sum((temp >= 256) & (temp < 512))/len(temp)]\n",
        "\n",
        "    sns.barplot(ax=ax[i], x=buckets, y=bucket_dist, palette='Pastel2')\n",
        "    ax[i].set_title(title[i])\n",
        "    ax[i].set_xlabel('Token Distance b/w Entities')\n",
        "    ax[i].set_ylabel('Fraction of Total Samples in Train (Resampled)')\n",
        "    ax[i].set_ylim(0, 0.6)"
      ],
      "execution_count": null,
      "outputs": []
    },
    {
      "cell_type": "code",
      "metadata": {
        "id": "RN4dQ1UMBTn5"
      },
      "source": [
        "# Save datasets\n",
        "mini_df.to_csv('mini_df.csv')\n",
        "mini_test_df.to_csv('mini_test_df.csv')\n",
        "resample_df.to_csv('resample_df.csv')"
      ],
      "execution_count": null,
      "outputs": []
    }
  ]
}